{
 "cells": [
  {
   "cell_type": "markdown",
   "id": "6dbd473e",
   "metadata": {},
   "source": [
    "# IMDB RATING SENTIMENT ANALYSIS"
   ]
  },
  {
   "cell_type": "markdown",
   "id": "76db7185",
   "metadata": {},
   "source": [
    "# Importing the necessary libraries"
   ]
  },
  {
   "cell_type": "code",
   "execution_count": 143,
   "id": "9aad8154",
   "metadata": {},
   "outputs": [],
   "source": [
    "import pandas as pd    #working with datarframes for csv files\n",
    "import numpy as np     #working with numerical data\n",
    "import matplotlib.pyplot as plt   #visualization\n",
    "import seaborn as sns          #visualization\n",
    "plt.style.use(\"ggplot\")\n",
    "import nltk                   #for NlP task\n",
    "import re                   #regex for data pre-processing\n",
    "from nltk.sentiment import SentimentIntensityAnalyzer   #Analyzer\n",
    "#from afinn import Afinn\n",
    "from nltk.corpus import stopwords \n",
    "from sklearn.model_selection import train_test_split      #scikit learn lib\n",
    "from sklearn.feature_extraction.text import CountVectorizer\n",
    "from sklearn.naive_bayes import MultinomialNB\n",
    "from sklearn.metrics import accuracy_score\n",
    "from sklearn.feature_extraction.text import ENGLISH_STOP_WORDS\n",
    "from sklearn.linear_model import LogisticRegression\n",
    "from sklearn.feature_extraction.text import TfidfVectorizer\n",
    "from sklearn.metrics import accuracy_score, confusion_matrix"
   ]
  },
  {
   "cell_type": "markdown",
   "id": "b393eeb4",
   "metadata": {},
   "source": [
    "# DATA TAKEN FROM KAGGLE- \n",
    "# liNK -- https://www.kaggle.com/datasets/columbine/imdb-dataset-sentiment-analysis-in-csv-format?select=Valid.csv"
   ]
  },
  {
   "cell_type": "code",
   "execution_count": 79,
   "id": "d84e4b13",
   "metadata": {},
   "outputs": [],
   "source": [
    "df1 = pd.read_csv(\"Test.csv/Test.csv\")\n",
    "df2 = pd.read_csv(\"Train.csv/Train.csv\")\n",
    "df3 = pd.read_csv(\"Valid.csv/Valid.csv\")"
   ]
  },
  {
   "cell_type": "markdown",
   "id": "af6a86ff",
   "metadata": {},
   "source": [
    "# ANalysing the data "
   ]
  },
  {
   "cell_type": "code",
   "execution_count": 80,
   "id": "397420ce",
   "metadata": {},
   "outputs": [
    {
     "data": {
      "text/html": [
       "<div>\n",
       "<style scoped>\n",
       "    .dataframe tbody tr th:only-of-type {\n",
       "        vertical-align: middle;\n",
       "    }\n",
       "\n",
       "    .dataframe tbody tr th {\n",
       "        vertical-align: top;\n",
       "    }\n",
       "\n",
       "    .dataframe thead th {\n",
       "        text-align: right;\n",
       "    }\n",
       "</style>\n",
       "<table border=\"1\" class=\"dataframe\">\n",
       "  <thead>\n",
       "    <tr style=\"text-align: right;\">\n",
       "      <th></th>\n",
       "      <th>text</th>\n",
       "      <th>label</th>\n",
       "    </tr>\n",
       "  </thead>\n",
       "  <tbody>\n",
       "    <tr>\n",
       "      <th>0</th>\n",
       "      <td>I always wrote this series off as being a comp...</td>\n",
       "      <td>0</td>\n",
       "    </tr>\n",
       "    <tr>\n",
       "      <th>1</th>\n",
       "      <td>1st watched 12/7/2002 - 3 out of 10(Dir-Steve ...</td>\n",
       "      <td>0</td>\n",
       "    </tr>\n",
       "    <tr>\n",
       "      <th>2</th>\n",
       "      <td>This movie was so poorly written and directed ...</td>\n",
       "      <td>0</td>\n",
       "    </tr>\n",
       "    <tr>\n",
       "      <th>3</th>\n",
       "      <td>The most interesting thing about Miryang (Secr...</td>\n",
       "      <td>1</td>\n",
       "    </tr>\n",
       "    <tr>\n",
       "      <th>4</th>\n",
       "      <td>when i first read about \"berlin am meer\" i did...</td>\n",
       "      <td>0</td>\n",
       "    </tr>\n",
       "  </tbody>\n",
       "</table>\n",
       "</div>"
      ],
      "text/plain": [
       "                                                text  label\n",
       "0  I always wrote this series off as being a comp...      0\n",
       "1  1st watched 12/7/2002 - 3 out of 10(Dir-Steve ...      0\n",
       "2  This movie was so poorly written and directed ...      0\n",
       "3  The most interesting thing about Miryang (Secr...      1\n",
       "4  when i first read about \"berlin am meer\" i did...      0"
      ]
     },
     "execution_count": 80,
     "metadata": {},
     "output_type": "execute_result"
    }
   ],
   "source": [
    "df1.head()"
   ]
  },
  {
   "cell_type": "code",
   "execution_count": 81,
   "id": "c62f5de4",
   "metadata": {},
   "outputs": [
    {
     "data": {
      "text/html": [
       "<div>\n",
       "<style scoped>\n",
       "    .dataframe tbody tr th:only-of-type {\n",
       "        vertical-align: middle;\n",
       "    }\n",
       "\n",
       "    .dataframe tbody tr th {\n",
       "        vertical-align: top;\n",
       "    }\n",
       "\n",
       "    .dataframe thead th {\n",
       "        text-align: right;\n",
       "    }\n",
       "</style>\n",
       "<table border=\"1\" class=\"dataframe\">\n",
       "  <thead>\n",
       "    <tr style=\"text-align: right;\">\n",
       "      <th></th>\n",
       "      <th>text</th>\n",
       "      <th>label</th>\n",
       "    </tr>\n",
       "  </thead>\n",
       "  <tbody>\n",
       "    <tr>\n",
       "      <th>0</th>\n",
       "      <td>I grew up (b. 1965) watching and loving the Th...</td>\n",
       "      <td>0</td>\n",
       "    </tr>\n",
       "    <tr>\n",
       "      <th>1</th>\n",
       "      <td>When I put this movie in my DVD player, and sa...</td>\n",
       "      <td>0</td>\n",
       "    </tr>\n",
       "    <tr>\n",
       "      <th>2</th>\n",
       "      <td>Why do people who do not know what a particula...</td>\n",
       "      <td>0</td>\n",
       "    </tr>\n",
       "    <tr>\n",
       "      <th>3</th>\n",
       "      <td>Even though I have great interest in Biblical ...</td>\n",
       "      <td>0</td>\n",
       "    </tr>\n",
       "    <tr>\n",
       "      <th>4</th>\n",
       "      <td>Im a die hard Dads Army fan and nothing will e...</td>\n",
       "      <td>1</td>\n",
       "    </tr>\n",
       "  </tbody>\n",
       "</table>\n",
       "</div>"
      ],
      "text/plain": [
       "                                                text  label\n",
       "0  I grew up (b. 1965) watching and loving the Th...      0\n",
       "1  When I put this movie in my DVD player, and sa...      0\n",
       "2  Why do people who do not know what a particula...      0\n",
       "3  Even though I have great interest in Biblical ...      0\n",
       "4  Im a die hard Dads Army fan and nothing will e...      1"
      ]
     },
     "execution_count": 81,
     "metadata": {},
     "output_type": "execute_result"
    }
   ],
   "source": [
    "df2.head()"
   ]
  },
  {
   "cell_type": "code",
   "execution_count": 82,
   "id": "b166609a",
   "metadata": {},
   "outputs": [
    {
     "data": {
      "text/html": [
       "<div>\n",
       "<style scoped>\n",
       "    .dataframe tbody tr th:only-of-type {\n",
       "        vertical-align: middle;\n",
       "    }\n",
       "\n",
       "    .dataframe tbody tr th {\n",
       "        vertical-align: top;\n",
       "    }\n",
       "\n",
       "    .dataframe thead th {\n",
       "        text-align: right;\n",
       "    }\n",
       "</style>\n",
       "<table border=\"1\" class=\"dataframe\">\n",
       "  <thead>\n",
       "    <tr style=\"text-align: right;\">\n",
       "      <th></th>\n",
       "      <th>text</th>\n",
       "      <th>label</th>\n",
       "    </tr>\n",
       "  </thead>\n",
       "  <tbody>\n",
       "    <tr>\n",
       "      <th>0</th>\n",
       "      <td>It's been about 14 years since Sharon Stone aw...</td>\n",
       "      <td>0</td>\n",
       "    </tr>\n",
       "    <tr>\n",
       "      <th>1</th>\n",
       "      <td>someone needed to make a car payment... this i...</td>\n",
       "      <td>0</td>\n",
       "    </tr>\n",
       "    <tr>\n",
       "      <th>2</th>\n",
       "      <td>The Guidelines state that a comment must conta...</td>\n",
       "      <td>0</td>\n",
       "    </tr>\n",
       "    <tr>\n",
       "      <th>3</th>\n",
       "      <td>This movie is a muddled mish-mash of clichés f...</td>\n",
       "      <td>0</td>\n",
       "    </tr>\n",
       "    <tr>\n",
       "      <th>4</th>\n",
       "      <td>Before Stan Laurel became the smaller half of ...</td>\n",
       "      <td>0</td>\n",
       "    </tr>\n",
       "  </tbody>\n",
       "</table>\n",
       "</div>"
      ],
      "text/plain": [
       "                                                text  label\n",
       "0  It's been about 14 years since Sharon Stone aw...      0\n",
       "1  someone needed to make a car payment... this i...      0\n",
       "2  The Guidelines state that a comment must conta...      0\n",
       "3  This movie is a muddled mish-mash of clichés f...      0\n",
       "4  Before Stan Laurel became the smaller half of ...      0"
      ]
     },
     "execution_count": 82,
     "metadata": {},
     "output_type": "execute_result"
    }
   ],
   "source": [
    "df3.head()"
   ]
  },
  {
   "cell_type": "code",
   "execution_count": 83,
   "id": "c5c9ac29",
   "metadata": {},
   "outputs": [
    {
     "name": "stdout",
     "output_type": "stream",
     "text": [
      "<class 'pandas.core.frame.DataFrame'>\n",
      "RangeIndex: 5000 entries, 0 to 4999\n",
      "Data columns (total 2 columns):\n",
      " #   Column  Non-Null Count  Dtype \n",
      "---  ------  --------------  ----- \n",
      " 0   text    5000 non-null   object\n",
      " 1   label   5000 non-null   int64 \n",
      "dtypes: int64(1), object(1)\n",
      "memory usage: 78.3+ KB\n"
     ]
    }
   ],
   "source": [
    "df1.info()"
   ]
  },
  {
   "cell_type": "code",
   "execution_count": 84,
   "id": "5d6a8ea8",
   "metadata": {},
   "outputs": [
    {
     "name": "stdout",
     "output_type": "stream",
     "text": [
      "<class 'pandas.core.frame.DataFrame'>\n",
      "RangeIndex: 40000 entries, 0 to 39999\n",
      "Data columns (total 2 columns):\n",
      " #   Column  Non-Null Count  Dtype \n",
      "---  ------  --------------  ----- \n",
      " 0   text    40000 non-null  object\n",
      " 1   label   40000 non-null  int64 \n",
      "dtypes: int64(1), object(1)\n",
      "memory usage: 625.1+ KB\n"
     ]
    }
   ],
   "source": [
    "df2.info()"
   ]
  },
  {
   "cell_type": "code",
   "execution_count": 85,
   "id": "55e4e223",
   "metadata": {},
   "outputs": [
    {
     "name": "stdout",
     "output_type": "stream",
     "text": [
      "<class 'pandas.core.frame.DataFrame'>\n",
      "RangeIndex: 5000 entries, 0 to 4999\n",
      "Data columns (total 2 columns):\n",
      " #   Column  Non-Null Count  Dtype \n",
      "---  ------  --------------  ----- \n",
      " 0   text    5000 non-null   object\n",
      " 1   label   5000 non-null   int64 \n",
      "dtypes: int64(1), object(1)\n",
      "memory usage: 78.3+ KB\n"
     ]
    }
   ],
   "source": [
    "df3.info()"
   ]
  },
  {
   "cell_type": "markdown",
   "id": "1a0e8f5b",
   "metadata": {},
   "source": [
    "# Visualization for better understanding"
   ]
  },
  {
   "cell_type": "code",
   "execution_count": 86,
   "id": "6dac2d49",
   "metadata": {},
   "outputs": [
    {
     "data": {
      "text/plain": [
       "<Axes: title={'center': 'Reviews'}, xlabel='label'>"
      ]
     },
     "execution_count": 86,
     "metadata": {},
     "output_type": "execute_result"
    },
    {
     "data": {
      "image/png": "[encoded data removed]",
      "text/plain": [
       "<Figure size 1000x500 with 1 Axes>"
      ]
     },
     "metadata": {},
     "output_type": "display_data"
    }
   ],
   "source": [
    "ax = df1[\"label\"].value_counts().plot(kind=\"bar\",title=\"Reviews\",figsize=(10,5))\n",
    "ax"
   ]
  },
  {
   "cell_type": "code",
   "execution_count": 156,
   "id": "6348ba5c",
   "metadata": {},
   "outputs": [
    {
     "data": {
      "image/png": "[encoded data removed]",
      "text/plain": [
       "<Figure size 640x480 with 1 Axes>"
      ]
     },
     "metadata": {},
     "output_type": "display_data"
    }
   ],
   "source": [
    "sns.countplot(data=df2, x='label')\n",
    "plt.title('Count of Labels')\n",
    "plt.show()"
   ]
  },
  {
   "cell_type": "code",
   "execution_count": 163,
   "id": "e93d53d9",
   "metadata": {},
   "outputs": [
    {
     "data": {
      "image/png": "[encoded data removed]",
      "text/plain": [
       "<Figure size 640x480 with 1 Axes>"
      ]
     },
     "metadata": {},
     "output_type": "display_data"
    }
   ],
   "source": [
    "df3['label'].value_counts().plot(kind='pie', autopct='%1.1f%%', startangle=90)\n",
    "plt.title('Distribution of Labels')\n",
    "plt.axis('equal')\n",
    "plt.show()"
   ]
  },
  {
   "cell_type": "markdown",
   "id": "f78973d2",
   "metadata": {},
   "source": [
    "# cleaning the data using regex"
   ]
  },
  {
   "cell_type": "code",
   "execution_count": 88,
   "id": "7df03674",
   "metadata": {},
   "outputs": [
    {
     "data": {
      "text/plain": [
       "'I always wrote this series off as being a complete stink-fest because Jim Belushi was involved in it, and heavily. But then one day a tragic happenstance occurred. After a White Sox game ended I realized that the remote was all the way on the other side of the room somehow. Now I could have just gotten up and walked across the room to get the remote, or even to the TV to turn the channel. But then why not just get up and walk across the country to watch TV in another state? \"Nuts to that\", I said. So I decided to just hang tight on the couch and take whatever Fate had in store for me. What Fate had in store was an episode of this show, an episode about which I remember very little except that I had once again made a very broad, general sweeping blanket judgment based on zero objective or experiential evidence with nothing whatsoever to back my opinions up with, and once again I was completely right! This show is a total crud-pie! Belushi has all the comedic delivery of a hairy lighthouse foghorn. The women are physically attractive but too Stepford-is to elicit any real feeling from the viewer. There is absolutely no reason to stop yourself from running down to the local TV station with a can of gasoline and a flamethrower and sending every copy of this mutt howling back to hell. <br /><br />Except.. <br /><br />Except for the wonderful comic sty lings of Larry Joe Campbell, America\\'s Greatest Comic Character Actor. This guy plays Belushi\\'s brother-in-law, Andy, and he is gold. How good is he really? Well, aside from being funny, his job is to make Belushi look good. That\\'s like trying to make butt warts look good. But Campbell pulls it off with style. Someone should invent a Nobel Prize in Comic Buffoonery so he can win it every year. Without Larry Joe this show would consist of a slightly vacant looking Courtney Thorne-Smith smacking Belushi over the head with a frying pan while he alternately beats his chest and plays with the straw on the floor of his cage. 5 stars for Larry Joe Campbell designated Comedic Bacon because he improves the flavor of everything he\\'s in!'"
      ]
     },
     "execution_count": 88,
     "metadata": {},
     "output_type": "execute_result"
    }
   ],
   "source": [
    "example_text = df1[\"text\"][0]\n",
    "example_text"
   ]
  },
  {
   "cell_type": "code",
   "execution_count": 89,
   "id": "af9fd1c9",
   "metadata": {},
   "outputs": [],
   "source": [
    "#nltk.download('stopwords')\n",
    "def cleaningdata(example_text):\n",
    "    cleaned_text = re.sub(r'@\\w+', '', example_text)\n",
    "\n",
    "    cleaned_text = re.sub(r'[^a-zA-Z\\s]', '', cleaned_text)\n",
    "    words = cleaned_text.lower().split()\n",
    "\n",
    "    stop_words = set(stopwords.words(\"english\") + list(ENGLISH_STOP_WORDS))\n",
    "\n",
    "    filtered_words = [word for word in words if word not in stop_words]\n",
    "\n",
    "    cleaned_sentence = \" \".join(filtered_words)\n",
    "    return cleaned_sentence\n",
    "#cleaningdata(example_text)\n",
    "df1['text'] = df1['text'].apply(cleaningdata)"
   ]
  },
  {
   "cell_type": "code",
   "execution_count": 90,
   "id": "b6a660d6",
   "metadata": {},
   "outputs": [
    {
     "data": {
      "text/plain": [
       "'interesting thing miryang secret sunshine actors jeon doyeon lee shinae main character woman young son husband died tragic accident leaves seoul live miryang home town young son jeons face changeable girlish flirtatious elegant aged sad desperate joyous terribly isolated turns face film stars song kangho kim man meets car breaks coming miryang happens run garage town follows time despite apparent lack attentions song biggest star korea right renowned work park chanwook bong joonho sympathy mr vengeance memories murder host plays throwaway character forgotten man course makes interesting curiously appealing essential ballast jeons character floating awaybr br lee shinae piano teacher comes new town neutral place kind poormans seoul town like kim says way like little boy sprightly little boys plainly damaged withdrawn times father used snore misses lies awake pretending snore goes school shinae meets parents students shopkeepers sense place film place sense people speak local dialect knows shinaes seoul origin immediately noticed life really harsher away big city sophistication shinae realize danger inbr br terrible happens shinae doesnt necessarily deal best possible way happens face consequences goes pieces perpetrator caught thats consolation eventually despairing relents goes bornagain christian meeting acquaintance pressing attend finds peace release decides forgive perpetrator prison tell experience ironies destroys embittered desperate longer finds solace religion gets worse thatbr br jeon doyeon gives extremely demanding protean role lee changdong good director actor stature song kangho expresses enormous admiration convincing according scott foundas la weekly lees films green fish peppermint candy oasis marked leading figures countrys recent cinematic renaissance successful film korean directors work ive seen yong sangsoo bong joonho prodigiously perversely gifted park chanwook begin foundas says kind asiatic alice doesnt live anymore abruptly warning turns thriller time nearly bressonian study human suffering progression random indigestible film sags loses momentum end simply fizzles sense ending weaknesses action shinae takes foolish chances son makes bad choices destined madness like betty jeanjacques beineixs betty blue explain peculiar mistaken choices isnt properly developed interesting film certainly disturbing leaves doubtful dissatisfied putting emotional wringerbr br official selection new york film festival presented lincoln center event right korean filmmakers recent past'"
      ]
     },
     "execution_count": 90,
     "metadata": {},
     "output_type": "execute_result"
    }
   ],
   "source": [
    "df1[\"text\"][3]"
   ]
  },
  {
   "cell_type": "markdown",
   "id": "05df70d0",
   "metadata": {},
   "source": [
    "# tokenization"
   ]
  },
  {
   "cell_type": "code",
   "execution_count": 92,
   "id": "78290933",
   "metadata": {},
   "outputs": [],
   "source": [
    "def tokenization(ex):\n",
    "    tokens = nltk.word_tokenize(ex)\n",
    "    return tokens\n",
    "df1[\"text\"] = df1[\"text\"].apply(tokenization)"
   ]
  },
  {
   "cell_type": "code",
   "execution_count": 93,
   "id": "88751356",
   "metadata": {},
   "outputs": [
    {
     "data": {
      "text/plain": [
       "0       [wrote, series, complete, stinkfest, jim, belu...\n",
       "1       [st, watched, dirsteve, purcell, typical, mary...\n",
       "2       [movie, poorly, written, directed, fell, aslee...\n",
       "3       [interesting, thing, miryang, secret, sunshine...\n",
       "4       [read, berlin, meer, didnt, expect, thought, r...\n",
       "                              ...                        \n",
       "4995    [kind, picture, john, lassiter, making, today,...\n",
       "4996    [saw, whipped, press, screening, hilarious, ta...\n",
       "4997    [nbc, ashamed, wouldnt, allow, children, defin...\n",
       "4998    [movie, clumsy, mishmash, various, ghoststory,...\n",
       "4999    [formula, movie, illegitimate, son, rich, chil...\n",
       "Name: text, Length: 5000, dtype: object"
      ]
     },
     "execution_count": 93,
     "metadata": {},
     "output_type": "execute_result"
    }
   ],
   "source": [
    "df1[\"text\"]"
   ]
  },
  {
   "cell_type": "markdown",
   "id": "edc29f5c",
   "metadata": {},
   "source": [
    "# do the same with other dataset"
   ]
  },
  {
   "cell_type": "code",
   "execution_count": 95,
   "id": "4a405021",
   "metadata": {},
   "outputs": [],
   "source": [
    "df2['text'] = df2['text'].apply(cleaningdata)"
   ]
  },
  {
   "cell_type": "code",
   "execution_count": 96,
   "id": "8f3c9a4d",
   "metadata": {},
   "outputs": [],
   "source": [
    "df2[\"text\"] = df2[\"text\"].apply(tokenization)"
   ]
  },
  {
   "cell_type": "code",
   "execution_count": 97,
   "id": "4634b395",
   "metadata": {},
   "outputs": [],
   "source": [
    "df3['text'] = df3['text'].apply(cleaningdata)"
   ]
  },
  {
   "cell_type": "code",
   "execution_count": 98,
   "id": "69a38d9e",
   "metadata": {},
   "outputs": [],
   "source": [
    "df3[\"text\"] = df3[\"text\"].apply(tokenization)"
   ]
  },
  {
   "cell_type": "code",
   "execution_count": 99,
   "id": "5d2b67ec",
   "metadata": {},
   "outputs": [
    {
     "data": {
      "text/html": [
       "<div>\n",
       "<style scoped>\n",
       "    .dataframe tbody tr th:only-of-type {\n",
       "        vertical-align: middle;\n",
       "    }\n",
       "\n",
       "    .dataframe tbody tr th {\n",
       "        vertical-align: top;\n",
       "    }\n",
       "\n",
       "    .dataframe thead th {\n",
       "        text-align: right;\n",
       "    }\n",
       "</style>\n",
       "<table border=\"1\" class=\"dataframe\">\n",
       "  <thead>\n",
       "    <tr style=\"text-align: right;\">\n",
       "      <th></th>\n",
       "      <th>text</th>\n",
       "      <th>label</th>\n",
       "    </tr>\n",
       "  </thead>\n",
       "  <tbody>\n",
       "    <tr>\n",
       "      <th>0</th>\n",
       "      <td>[grew, b, watching, loving, thunderbirds, mate...</td>\n",
       "      <td>0</td>\n",
       "    </tr>\n",
       "    <tr>\n",
       "      <th>1</th>\n",
       "      <td>[movie, dvd, player, sat, coke, chips, expecta...</td>\n",
       "      <td>0</td>\n",
       "    </tr>\n",
       "    <tr>\n",
       "      <th>2</th>\n",
       "      <td>[people, know, particular, time, past, like, f...</td>\n",
       "      <td>0</td>\n",
       "    </tr>\n",
       "    <tr>\n",
       "      <th>3</th>\n",
       "      <td>[great, biblical, movies, bored, death, minute...</td>\n",
       "      <td>0</td>\n",
       "    </tr>\n",
       "    <tr>\n",
       "      <th>4</th>\n",
       "      <td>[im, die, hard, dads, army, fan, change, got, ...</td>\n",
       "      <td>1</td>\n",
       "    </tr>\n",
       "  </tbody>\n",
       "</table>\n",
       "</div>"
      ],
      "text/plain": [
       "                                                text  label\n",
       "0  [grew, b, watching, loving, thunderbirds, mate...      0\n",
       "1  [movie, dvd, player, sat, coke, chips, expecta...      0\n",
       "2  [people, know, particular, time, past, like, f...      0\n",
       "3  [great, biblical, movies, bored, death, minute...      0\n",
       "4  [im, die, hard, dads, army, fan, change, got, ...      1"
      ]
     },
     "execution_count": 99,
     "metadata": {},
     "output_type": "execute_result"
    }
   ],
   "source": [
    "df2.head()"
   ]
  },
  {
   "cell_type": "code",
   "execution_count": 100,
   "id": "4741a130",
   "metadata": {},
   "outputs": [
    {
     "data": {
      "text/html": [
       "<div>\n",
       "<style scoped>\n",
       "    .dataframe tbody tr th:only-of-type {\n",
       "        vertical-align: middle;\n",
       "    }\n",
       "\n",
       "    .dataframe tbody tr th {\n",
       "        vertical-align: top;\n",
       "    }\n",
       "\n",
       "    .dataframe thead th {\n",
       "        text-align: right;\n",
       "    }\n",
       "</style>\n",
       "<table border=\"1\" class=\"dataframe\">\n",
       "  <thead>\n",
       "    <tr style=\"text-align: right;\">\n",
       "      <th></th>\n",
       "      <th>text</th>\n",
       "      <th>label</th>\n",
       "    </tr>\n",
       "  </thead>\n",
       "  <tbody>\n",
       "    <tr>\n",
       "      <th>0</th>\n",
       "      <td>[years, sharon, stone, awarded, viewers, legcr...</td>\n",
       "      <td>0</td>\n",
       "    </tr>\n",
       "    <tr>\n",
       "      <th>1</th>\n",
       "      <td>[needed, make, car, payment, truly, awful, mak...</td>\n",
       "      <td>0</td>\n",
       "    </tr>\n",
       "    <tr>\n",
       "      <th>2</th>\n",
       "      <td>[guidelines, state, comment, contain, minimum,...</td>\n",
       "      <td>0</td>\n",
       "    </tr>\n",
       "    <tr>\n",
       "      <th>3</th>\n",
       "      <td>[movie, muddled, mishmash, clichs, recent, cin...</td>\n",
       "      <td>0</td>\n",
       "    </tr>\n",
       "    <tr>\n",
       "      <th>4</th>\n",
       "      <td>[stan, laurel, smaller, half, alltime, greates...</td>\n",
       "      <td>0</td>\n",
       "    </tr>\n",
       "  </tbody>\n",
       "</table>\n",
       "</div>"
      ],
      "text/plain": [
       "                                                text  label\n",
       "0  [years, sharon, stone, awarded, viewers, legcr...      0\n",
       "1  [needed, make, car, payment, truly, awful, mak...      0\n",
       "2  [guidelines, state, comment, contain, minimum,...      0\n",
       "3  [movie, muddled, mishmash, clichs, recent, cin...      0\n",
       "4  [stan, laurel, smaller, half, alltime, greates...      0"
      ]
     },
     "execution_count": 100,
     "metadata": {},
     "output_type": "execute_result"
    }
   ],
   "source": [
    "df3.head()"
   ]
  },
  {
   "cell_type": "markdown",
   "id": "cd0770ec",
   "metadata": {},
   "source": [
    "# vectorization/feature extraction"
   ]
  },
  {
   "cell_type": "code",
   "execution_count": 102,
   "id": "d3e6c38e",
   "metadata": {},
   "outputs": [],
   "source": [
    "train_valid_df = pd.concat([df2, df3]) #combining train and valid dataset"
   ]
  },
  {
   "cell_type": "code",
   "execution_count": 103,
   "id": "2f3fea6b",
   "metadata": {},
   "outputs": [],
   "source": [
    "texts_train_valid = train_valid_df['text']\n",
    "labels_train_valid = train_valid_df['label']"
   ]
  },
  {
   "cell_type": "code",
   "execution_count": 104,
   "id": "375c962f",
   "metadata": {},
   "outputs": [],
   "source": [
    "texts_test = df1['text']"
   ]
  },
  {
   "cell_type": "code",
   "execution_count": 105,
   "id": "08d5e41d",
   "metadata": {},
   "outputs": [],
   "source": [
    "labels_test = df1['label']"
   ]
  },
  {
   "cell_type": "markdown",
   "id": "4891541c",
   "metadata": {},
   "source": [
    "# Splitting data into training and test sets"
   ]
  },
  {
   "cell_type": "code",
   "execution_count": 107,
   "id": "99a6036b",
   "metadata": {},
   "outputs": [],
   "source": [
    "texts_train, texts_valid, labels_train, labels_valid = train_test_split(\n",
    "    texts_train_valid, labels_train_valid, test_size=0.25, random_state=42)"
   ]
  },
  {
   "cell_type": "markdown",
   "id": "b6cd6fa3",
   "metadata": {},
   "source": [
    "# Text Vectorization"
   ]
  },
  {
   "cell_type": "code",
   "execution_count": 108,
   "id": "9ff6970b",
   "metadata": {},
   "outputs": [],
   "source": [
    "vectorizer = CountVectorizer(ngram_range=(1, 2))"
   ]
  },
  {
   "cell_type": "code",
   "execution_count": 109,
   "id": "991bde4a",
   "metadata": {},
   "outputs": [
    {
     "data": {
      "text/plain": [
       "24224    [story, ed, gein, interesting, interesting, mo...\n",
       "38081    [story, obsessive, love, pushed, limits, lovel...\n",
       "2955     [charlies, wilsons, war, demonstrates, deft, v...\n",
       "30973    [knights, beginning, series, pilot, say, plot,...\n",
       "1258     [handful, movies, grand, scale, difference, ar...\n",
       "                               ...                        \n",
       "11284    [movie, inspiring, tough, jam, financially, em...\n",
       "4732     [fabulous, filmbr, br, plot, good, yarn, imagi...\n",
       "38158    [east, story, documentary, musical, comedy, st...\n",
       "860      [selfadmitted, boot, point, doctors, assistant...\n",
       "15795    [movie, horrible, lighting, terrible, camera, ...\n",
       "Name: text, Length: 33750, dtype: object"
      ]
     },
     "execution_count": 109,
     "metadata": {},
     "output_type": "execute_result"
    }
   ],
   "source": [
    "texts_train"
   ]
  },
  {
   "cell_type": "markdown",
   "id": "ade87d02",
   "metadata": {},
   "source": [
    "# Processing the data to convert it to strings"
   ]
  },
  {
   "cell_type": "code",
   "execution_count": 118,
   "id": "39e203db",
   "metadata": {},
   "outputs": [
    {
     "data": {
      "text/plain": [
       "24224    story ed gein interesting interesting movie in...\n",
       "38081    story obsessive love pushed limits lovely swan...\n",
       "2955     charlies wilsons war demonstrates deft veracit...\n",
       "30973    knights beginning series pilot say plot really...\n",
       "1258     handful movies grand scale difference art movi...\n",
       "                               ...                        \n",
       "11284    movie inspiring tough jam financially emotiona...\n",
       "4732     fabulous filmbr br plot good yarn imaginativel...\n",
       "38158    east story documentary musical comedy stalinis...\n",
       "860      selfadmitted boot point doctors assistant refe...\n",
       "15795    movie horrible lighting terrible camera moveme...\n",
       "Name: text, Length: 33750, dtype: object"
      ]
     },
     "execution_count": 118,
     "metadata": {},
     "output_type": "execute_result"
    }
   ],
   "source": [
    "texts_train_processed = texts_train.apply(lambda x: ' '.join(map(str, x)))\n",
    "texts_train_processed"
   ]
  },
  {
   "cell_type": "code",
   "execution_count": 119,
   "id": "07e97283",
   "metadata": {},
   "outputs": [
    {
     "data": {
      "text/plain": [
       "37979    tis farly typical tom jerry shorta situation d...\n",
       "9911     stupid movie stupid plot feels like threw imag...\n",
       "3386     grew movie remember brother used play backyard...\n",
       "13822    secretary cheesy cliched thrillers subjected w...\n",
       "4810     seeing film suggest viewer puts away expectati...\n",
       "                               ...                        \n",
       "26949    riding high success rebel cause came tidal wav...\n",
       "18278    oh dear god horrible bad movie makes sense run...\n",
       "29423    founding fathers regions monkey movie clubthis...\n",
       "494      ive playing movie incessantly month love oh de...\n",
       "32289    movie cause im die hard fan video game series ...\n",
       "Name: text, Length: 11250, dtype: object"
      ]
     },
     "execution_count": 119,
     "metadata": {},
     "output_type": "execute_result"
    }
   ],
   "source": [
    "texts_valid_processed = texts_valid.apply(lambda x: ' '.join(map(str, x)))\n",
    "texts_valid_processed"
   ]
  },
  {
   "cell_type": "markdown",
   "id": "c50c0b8a",
   "metadata": {},
   "source": [
    "# fit and transform the data"
   ]
  },
  {
   "cell_type": "code",
   "execution_count": 120,
   "id": "112ed8f5",
   "metadata": {},
   "outputs": [],
   "source": [
    "train_vectors = vectorizer.fit_transform(texts_train_processed)"
   ]
  },
  {
   "cell_type": "code",
   "execution_count": 121,
   "id": "cf79ca8b",
   "metadata": {},
   "outputs": [],
   "source": [
    "test_vectors = vectorizer.transform(texts_valid_processed)"
   ]
  },
  {
   "cell_type": "markdown",
   "id": "e5d30555",
   "metadata": {},
   "source": [
    "# Using logistic regression"
   ]
  },
  {
   "cell_type": "code",
   "execution_count": 124,
   "id": "75cff175",
   "metadata": {},
   "outputs": [],
   "source": [
    "logistic_classifier = LogisticRegression(max_iter=1000)"
   ]
  },
  {
   "cell_type": "code",
   "execution_count": 125,
   "id": "259c8b5b",
   "metadata": {},
   "outputs": [
    {
     "data": {
      "text/html": [
       "<style>#sk-container-id-2 {color: black;}#sk-container-id-2 pre{padding: 0;}#sk-container-id-2 div.sk-toggleable {background-color: white;}#sk-container-id-2 label.sk-toggleable__label {cursor: pointer;display: block;width: 100%;margin-bottom: 0;padding: 0.3em;box-sizing: border-box;text-align: center;}#sk-container-id-2 label.sk-toggleable__label-arrow:before {content: \"▸\";float: left;margin-right: 0.25em;color: #696969;}#sk-container-id-2 label.sk-toggleable__label-arrow:hover:before {color: black;}#sk-container-id-2 div.sk-estimator:hover label.sk-toggleable__label-arrow:before {color: black;}#sk-container-id-2 div.sk-toggleable__content {max-height: 0;max-width: 0;overflow: hidden;text-align: left;background-color: #f0f8ff;}#sk-container-id-2 div.sk-toggleable__content pre {margin: 0.2em;color: black;border-radius: 0.25em;background-color: #f0f8ff;}#sk-container-id-2 input.sk-toggleable__control:checked~div.sk-toggleable__content {max-height: 200px;max-width: 100%;overflow: auto;}#sk-container-id-2 input.sk-toggleable__control:checked~label.sk-toggleable__label-arrow:before {content: \"▾\";}#sk-container-id-2 div.sk-estimator input.sk-toggleable__control:checked~label.sk-toggleable__label {background-color: #d4ebff;}#sk-container-id-2 div.sk-label input.sk-toggleable__control:checked~label.sk-toggleable__label {background-color: #d4ebff;}#sk-container-id-2 input.sk-hidden--visually {border: 0;clip: rect(1px 1px 1px 1px);clip: rect(1px, 1px, 1px, 1px);height: 1px;margin: -1px;overflow: hidden;padding: 0;position: absolute;width: 1px;}#sk-container-id-2 div.sk-estimator {font-family: monospace;background-color: #f0f8ff;border: 1px dotted black;border-radius: 0.25em;box-sizing: border-box;margin-bottom: 0.5em;}#sk-container-id-2 div.sk-estimator:hover {background-color: #d4ebff;}#sk-container-id-2 div.sk-parallel-item::after {content: \"\";width: 100%;border-bottom: 1px solid gray;flex-grow: 1;}#sk-container-id-2 div.sk-label:hover label.sk-toggleable__label {background-color: #d4ebff;}#sk-container-id-2 div.sk-serial::before {content: \"\";position: absolute;border-left: 1px solid gray;box-sizing: border-box;top: 0;bottom: 0;left: 50%;z-index: 0;}#sk-container-id-2 div.sk-serial {display: flex;flex-direction: column;align-items: center;background-color: white;padding-right: 0.2em;padding-left: 0.2em;position: relative;}#sk-container-id-2 div.sk-item {position: relative;z-index: 1;}#sk-container-id-2 div.sk-parallel {display: flex;align-items: stretch;justify-content: center;background-color: white;position: relative;}#sk-container-id-2 div.sk-item::before, #sk-container-id-2 div.sk-parallel-item::before {content: \"\";position: absolute;border-left: 1px solid gray;box-sizing: border-box;top: 0;bottom: 0;left: 50%;z-index: -1;}#sk-container-id-2 div.sk-parallel-item {display: flex;flex-direction: column;z-index: 1;position: relative;background-color: white;}#sk-container-id-2 div.sk-parallel-item:first-child::after {align-self: flex-end;width: 50%;}#sk-container-id-2 div.sk-parallel-item:last-child::after {align-self: flex-start;width: 50%;}#sk-container-id-2 div.sk-parallel-item:only-child::after {width: 0;}#sk-container-id-2 div.sk-dashed-wrapped {border: 1px dashed gray;margin: 0 0.4em 0.5em 0.4em;box-sizing: border-box;padding-bottom: 0.4em;background-color: white;}#sk-container-id-2 div.sk-label label {font-family: monospace;font-weight: bold;display: inline-block;line-height: 1.2em;}#sk-container-id-2 div.sk-label-container {text-align: center;}#sk-container-id-2 div.sk-container {/* jupyter's `normalize.less` sets `[hidden] { display: none; }` but bootstrap.min.css set `[hidden] { display: none !important; }` so we also need the `!important` here to be able to override the default hidden behavior on the sphinx rendered scikit-learn.org. See: https://github.com/scikit-learn/scikit-learn/issues/21755 */display: inline-block !important;position: relative;}#sk-container-id-2 div.sk-text-repr-fallback {display: none;}</style><div id=\"sk-container-id-2\" class=\"sk-top-container\"><div class=\"sk-text-repr-fallback\"><pre>LogisticRegression(max_iter=1000)</pre><b>In a Jupyter environment, please rerun this cell to show the HTML representation or trust the notebook. <br />On GitHub, the HTML representation is unable to render, please try loading this page with nbviewer.org.</b></div><div class=\"sk-container\" hidden><div class=\"sk-item\"><div class=\"sk-estimator sk-toggleable\"><input class=\"sk-toggleable__control sk-hidden--visually\" id=\"sk-estimator-id-2\" type=\"checkbox\" checked><label for=\"sk-estimator-id-2\" class=\"sk-toggleable__label sk-toggleable__label-arrow\">LogisticRegression</label><div class=\"sk-toggleable__content\"><pre>LogisticRegression(max_iter=1000)</pre></div></div></div></div></div>"
      ],
      "text/plain": [
       "LogisticRegression(max_iter=1000)"
      ]
     },
     "execution_count": 125,
     "metadata": {},
     "output_type": "execute_result"
    }
   ],
   "source": [
    "logistic_classifier.fit(train_vectors, labels_train)"
   ]
  },
  {
   "cell_type": "markdown",
   "id": "0825f596",
   "metadata": {},
   "source": [
    "# Predict the sentiments"
   ]
  },
  {
   "cell_type": "code",
   "execution_count": 126,
   "id": "47619b84",
   "metadata": {},
   "outputs": [],
   "source": [
    "logistic_predictions = logistic_classifier.predict(test_vectors)"
   ]
  },
  {
   "cell_type": "code",
   "execution_count": 127,
   "id": "9c0863f4",
   "metadata": {},
   "outputs": [
    {
     "data": {
      "text/plain": [
       "24224    [story, ed, gein, interesting, interesting, mo...\n",
       "38081    [story, obsessive, love, pushed, limits, lovel...\n",
       "2955     [charlies, wilsons, war, demonstrates, deft, v...\n",
       "30973    [knights, beginning, series, pilot, say, plot,...\n",
       "1258     [handful, movies, grand, scale, difference, ar...\n",
       "                               ...                        \n",
       "11284    [movie, inspiring, tough, jam, financially, em...\n",
       "4732     [fabulous, filmbr, br, plot, good, yarn, imagi...\n",
       "38158    [east, story, documentary, musical, comedy, st...\n",
       "860      [selfadmitted, boot, point, doctors, assistant...\n",
       "15795    [movie, horrible, lighting, terrible, camera, ...\n",
       "Name: text, Length: 33750, dtype: object"
      ]
     },
     "execution_count": 127,
     "metadata": {},
     "output_type": "execute_result"
    }
   ],
   "source": [
    "texts_train"
   ]
  },
  {
   "cell_type": "markdown",
   "id": "825a141c",
   "metadata": {},
   "source": [
    "# checking the accuracy"
   ]
  },
  {
   "cell_type": "code",
   "execution_count": 131,
   "id": "dfc997f9",
   "metadata": {},
   "outputs": [],
   "source": [
    "logistic_accuracy = accuracy_score(labels_valid, logistic_predictions)"
   ]
  },
  {
   "cell_type": "code",
   "execution_count": 132,
   "id": "24ba1bd4",
   "metadata": {},
   "outputs": [
    {
     "data": {
      "text/plain": [
       "0.8932444444444444"
      ]
     },
     "execution_count": 132,
     "metadata": {},
     "output_type": "execute_result"
    }
   ],
   "source": [
    "logistic_accuracy"
   ]
  },
  {
   "cell_type": "markdown",
   "id": "0fbbb75a",
   "metadata": {},
   "source": [
    "# predicting the sentiment and adding it to test dataframe"
   ]
  },
  {
   "cell_type": "code",
   "execution_count": 133,
   "id": "44f27024",
   "metadata": {},
   "outputs": [],
   "source": [
    "def logistic_predict_sentiment(new_text):\n",
    "    new_vector = vectorizer.transform([new_text])\n",
    "    pred = logistic_classifier.predict(new_vector)\n",
    "    return pred[0]"
   ]
  },
  {
   "cell_type": "code",
   "execution_count": 137,
   "id": "e66149af",
   "metadata": {},
   "outputs": [],
   "source": [
    "def predict_sentiments_for_dataframe(df_column):\n",
    "    return df_column.apply(logistic_predict_sentiment)"
   ]
  },
  {
   "cell_type": "code",
   "execution_count": 139,
   "id": "af17a7e3",
   "metadata": {},
   "outputs": [],
   "source": [
    "df1['text'] = df1['text'].apply(lambda x: ' '.join(x))"
   ]
  },
  {
   "cell_type": "code",
   "execution_count": 140,
   "id": "343ba577",
   "metadata": {},
   "outputs": [],
   "source": [
    "df1['predicted_sentiment'] = predict_sentiments_for_dataframe(df1['text'])"
   ]
  },
  {
   "cell_type": "code",
   "execution_count": 146,
   "id": "8ebf6585",
   "metadata": {},
   "outputs": [
    {
     "name": "stdout",
     "output_type": "stream",
     "text": [
      "                                                   text  \\\n",
      "0     wrote series complete stinkfest jim belushi in...   \n",
      "1     st watched dirsteve purcell typical mary kate ...   \n",
      "2     movie poorly written directed fell asleep minu...   \n",
      "3     interesting thing miryang secret sunshine acto...   \n",
      "4     read berlin meer didnt expect thought right pe...   \n",
      "...                                                 ...   \n",
      "4995  kind picture john lassiter making today werent...   \n",
      "4996  saw whipped press screening hilarious talking ...   \n",
      "4997  nbc ashamed wouldnt allow children definitely ...   \n",
      "4998  movie clumsy mishmash various ghoststory suspe...   \n",
      "4999  formula movie illegitimate son rich chilenian ...   \n",
      "\n",
      "     predicted_sentiment_label  \n",
      "0                     negative  \n",
      "1                     negative  \n",
      "2                     negative  \n",
      "3                     positive  \n",
      "4                     negative  \n",
      "...                        ...  \n",
      "4995                  positive  \n",
      "4996                  positive  \n",
      "4997                  negative  \n",
      "4998                  negative  \n",
      "4999                  negative  \n",
      "\n",
      "[5000 rows x 2 columns]\n"
     ]
    }
   ],
   "source": [
    "sentiment_map = {0: 'negative', 1: 'positive'}\n",
    "\n",
    "df1['predicted_sentiment_label'] = df1['predicted_sentiment'].map(sentiment_map)\n",
    "print(df1[['text', 'predicted_sentiment_label']])"
   ]
  },
  {
   "cell_type": "markdown",
   "id": "def1bbe7",
   "metadata": {},
   "source": []
  },
  {
   "cell_type": "code",
   "execution_count": 154,
   "id": "66aca79d",
   "metadata": {},
   "outputs": [
    {
     "data": {
      "text/html": [
       "<div>\n",
       "<style scoped>\n",
       "    .dataframe tbody tr th:only-of-type {\n",
       "        vertical-align: middle;\n",
       "    }\n",
       "\n",
       "    .dataframe tbody tr th {\n",
       "        vertical-align: top;\n",
       "    }\n",
       "\n",
       "    .dataframe thead th {\n",
       "        text-align: right;\n",
       "    }\n",
       "</style>\n",
       "<table border=\"1\" class=\"dataframe\">\n",
       "  <thead>\n",
       "    <tr style=\"text-align: right;\">\n",
       "      <th></th>\n",
       "      <th>text</th>\n",
       "      <th>label</th>\n",
       "      <th>predicted_sentiment</th>\n",
       "      <th>predicted_sentiment_label</th>\n",
       "    </tr>\n",
       "  </thead>\n",
       "  <tbody>\n",
       "    <tr>\n",
       "      <th>0</th>\n",
       "      <td>wrote series complete stinkfest jim belushi in...</td>\n",
       "      <td>0</td>\n",
       "      <td>0</td>\n",
       "      <td>negative</td>\n",
       "    </tr>\n",
       "    <tr>\n",
       "      <th>1</th>\n",
       "      <td>st watched dirsteve purcell typical mary kate ...</td>\n",
       "      <td>0</td>\n",
       "      <td>0</td>\n",
       "      <td>negative</td>\n",
       "    </tr>\n",
       "    <tr>\n",
       "      <th>2</th>\n",
       "      <td>movie poorly written directed fell asleep minu...</td>\n",
       "      <td>0</td>\n",
       "      <td>0</td>\n",
       "      <td>negative</td>\n",
       "    </tr>\n",
       "    <tr>\n",
       "      <th>3</th>\n",
       "      <td>interesting thing miryang secret sunshine acto...</td>\n",
       "      <td>1</td>\n",
       "      <td>1</td>\n",
       "      <td>positive</td>\n",
       "    </tr>\n",
       "    <tr>\n",
       "      <th>4</th>\n",
       "      <td>read berlin meer didnt expect thought right pe...</td>\n",
       "      <td>0</td>\n",
       "      <td>0</td>\n",
       "      <td>negative</td>\n",
       "    </tr>\n",
       "    <tr>\n",
       "      <th>...</th>\n",
       "      <td>...</td>\n",
       "      <td>...</td>\n",
       "      <td>...</td>\n",
       "      <td>...</td>\n",
       "    </tr>\n",
       "    <tr>\n",
       "      <th>4995</th>\n",
       "      <td>kind picture john lassiter making today werent...</td>\n",
       "      <td>1</td>\n",
       "      <td>1</td>\n",
       "      <td>positive</td>\n",
       "    </tr>\n",
       "    <tr>\n",
       "      <th>4996</th>\n",
       "      <td>saw whipped press screening hilarious talking ...</td>\n",
       "      <td>1</td>\n",
       "      <td>1</td>\n",
       "      <td>positive</td>\n",
       "    </tr>\n",
       "    <tr>\n",
       "      <th>4997</th>\n",
       "      <td>nbc ashamed wouldnt allow children definitely ...</td>\n",
       "      <td>0</td>\n",
       "      <td>0</td>\n",
       "      <td>negative</td>\n",
       "    </tr>\n",
       "    <tr>\n",
       "      <th>4998</th>\n",
       "      <td>movie clumsy mishmash various ghoststory suspe...</td>\n",
       "      <td>0</td>\n",
       "      <td>0</td>\n",
       "      <td>negative</td>\n",
       "    </tr>\n",
       "    <tr>\n",
       "      <th>4999</th>\n",
       "      <td>formula movie illegitimate son rich chilenian ...</td>\n",
       "      <td>0</td>\n",
       "      <td>0</td>\n",
       "      <td>negative</td>\n",
       "    </tr>\n",
       "  </tbody>\n",
       "</table>\n",
       "<p>5000 rows × 4 columns</p>\n",
       "</div>"
      ],
      "text/plain": [
       "                                                   text  label  \\\n",
       "0     wrote series complete stinkfest jim belushi in...      0   \n",
       "1     st watched dirsteve purcell typical mary kate ...      0   \n",
       "2     movie poorly written directed fell asleep minu...      0   \n",
       "3     interesting thing miryang secret sunshine acto...      1   \n",
       "4     read berlin meer didnt expect thought right pe...      0   \n",
       "...                                                 ...    ...   \n",
       "4995  kind picture john lassiter making today werent...      1   \n",
       "4996  saw whipped press screening hilarious talking ...      1   \n",
       "4997  nbc ashamed wouldnt allow children definitely ...      0   \n",
       "4998  movie clumsy mishmash various ghoststory suspe...      0   \n",
       "4999  formula movie illegitimate son rich chilenian ...      0   \n",
       "\n",
       "      predicted_sentiment predicted_sentiment_label  \n",
       "0                       0                  negative  \n",
       "1                       0                  negative  \n",
       "2                       0                  negative  \n",
       "3                       1                  positive  \n",
       "4                       0                  negative  \n",
       "...                   ...                       ...  \n",
       "4995                    1                  positive  \n",
       "4996                    1                  positive  \n",
       "4997                    0                  negative  \n",
       "4998                    0                  negative  \n",
       "4999                    0                  negative  \n",
       "\n",
       "[5000 rows x 4 columns]"
      ]
     },
     "execution_count": 154,
     "metadata": {},
     "output_type": "execute_result"
    }
   ],
   "source": [
    "df1"
   ]
  },
  {
   "cell_type": "code",
   "execution_count": 164,
   "id": "df8c573d",
   "metadata": {},
   "outputs": [
    {
     "data": {
      "image/png": "[encoded data removed]",
      "text/plain": [
       "<Figure size 600x400 with 2 Axes>"
      ]
     },
     "metadata": {},
     "output_type": "display_data"
    }
   ],
   "source": [
    "predicted_sentiment = df1[\"predicted_sentiment\"]\n",
    "actual_sentiment = df1[\"label\"]  \n",
    "\n",
    "# Compute confusion matrix\n",
    "cm = confusion_matrix(actual_sentiment, predicted_sentiment)\n",
    "\n",
    "# Create a heatmap for the confusion matrix\n",
    "plt.figure(figsize=(6, 4))\n",
    "sns.heatmap(cm, annot=True, fmt='d', cmap='Blues')\n",
    "plt.xlabel('Predicted')\n",
    "plt.ylabel('Actual')\n",
    "plt.title('Confusion Matrix')\n",
    "plt.show()"
   ]
  },
  {
   "cell_type": "markdown",
   "id": "d6083224",
   "metadata": {},
   "source": [
    "# Explaining the process in 150 words"
   ]
  },
  {
   "cell_type": "markdown",
   "id": "36d8bced",
   "metadata": {},
   "source": [
    "The dataset from Kaggle was used to perform sentiment analysis on IMDB movie reviews to distinguish between positive and negative sentiment within the text. The dataset consists of three CSV files – test.cv, train.cv, and valid.cv – which were imported and converted into pandas dataframes for analysis. The analysis of the columns, rows and visualizations was done to understand the data better. To improve the quality of the data, we implemented comprehensive cleansing procedures including Regular Expression (regex) as well as the sklearn library. This included converting the text to lowercase and removing punctuation and stopwords, resulting in a clean dataset. We standardized cleaning across all three datasets to ensure consistency. Next, we tokenized, vectorized, and split the data into training data sets and test data sets. We used Logistic Regression to fit the model, resulting in an accuracy of 0,8932. Post-prediction, we added sentiments as columns to the dataset, including an analysis of a confusion matrix."
   ]
  },
  {
   "cell_type": "code",
   "execution_count": null,
   "id": "be322fa3",
   "metadata": {},
   "outputs": [],
   "source": []
  }
 ],
 "metadata": {
  "kernelspec": {
   "display_name": "Python 3 (ipykernel)",
   "language": "python",
   "name": "python3"
  },
  "language_info": {
   "codemirror_mode": {
    "name": "ipython",
    "version": 3
   },
   "file_extension": ".py",
   "mimetype": "text/x-python",
   "name": "python",
   "nbconvert_exporter": "python",
   "pygments_lexer": "ipython3",
   "version": "3.11.5"
  }
 },
 "nbformat": 4,
 "nbformat_minor": 5
}
